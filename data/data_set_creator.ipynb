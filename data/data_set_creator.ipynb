{
 "cells": [
  {
   "cell_type": "code",
   "execution_count": 367,
   "metadata": {},
   "outputs": [],
   "source": [
    "import pandas as pd\n",
    "import numpy as np\n",
    "import random\n",
    "from datetime import datetime"
   ]
  },
  {
   "cell_type": "markdown",
   "metadata": {},
   "source": [
    "## Features of the Dataset\n",
    "\n",
    "### Do I eat out?\n",
    "+ Time of Day (Early or Late, AM or PM Random Generator)\n",
    "+ In Class (Boolean Yes or No)\n",
    "+ Amount of Money (String Value contain)\n",
    "+ Are there good places open? (Boolean Yes or No)\n",
    "+ Do I eat out? (Boolean Yes or No)\n",
    "\n",
    "\n",
    "\n",
    "+ Total Features: 5\n",
    "+ How many instances?: 100,000\n"
   ]
  },
  {
   "cell_type": "markdown",
   "metadata": {},
   "source": [
    "### Creating the 'Do I eat out feature'"
   ]
  },
  {
   "cell_type": "code",
   "execution_count": 360,
   "metadata": {},
   "outputs": [],
   "source": [
    "eat_out = np.random.choice([True, False], size=100000)"
   ]
  },
  {
   "cell_type": "markdown",
   "metadata": {},
   "source": [
    "### Creating the 'In Class' column"
   ]
  },
  {
   "cell_type": "code",
   "execution_count": 361,
   "metadata": {},
   "outputs": [],
   "source": [
    "in_class = []\n",
    "\n",
    "for status in eat_out:\n",
    "    if status == True:\n",
    "       in_class.append(np.random.choice([True, False], p=[.10, .90]))\n",
    "    \n",
    "    else:\n",
    "        in_class.append(np.random.choice([False, True], p=[.40, .60]))"
   ]
  },
  {
   "cell_type": "markdown",
   "metadata": {},
   "source": [
    "### Creating the 'Are there good places open?' feature"
   ]
  },
  {
   "cell_type": "code",
   "execution_count": 362,
   "metadata": {},
   "outputs": [],
   "source": [
    "good_places_open = []\n",
    "\n",
    "for status in eat_out:\n",
    "    if status == True:\n",
    "       good_places_open.append(np.random.choice([True, False], p=[.90, .10]))\n",
    "    \n",
    "    else:\n",
    "        good_places_open.append(np.random.choice([False, True], p=[.50, .50]))"
   ]
  },
  {
   "cell_type": "markdown",
   "metadata": {},
   "source": [
    "### Generating 'Amount of Money' Feauture"
   ]
  },
  {
   "cell_type": "code",
   "execution_count": 313,
   "metadata": {},
   "outputs": [],
   "source": [
    "amount_of_money = []\n",
    "\n",
    "for status in eat_out:\n",
    "    if status:\n",
    "        choices = [round(random.uniform(55, 250), 2), round(random.uniform(0.0, 55), 2)]\n",
    "        \n",
    "        probabilities = [.90, .10]\n",
    "        \n",
    "        dollar_amount = np.random.choice(choices, p=probabilities)\n",
    "        \n",
    "        amount_of_money.append(dollar_amount)\n",
    "    \n",
    "\n",
    "    else:\n",
    "        choices = [round(random.uniform(55, 250), 2), round(random.uniform(0.0, 55), 2)]\n",
    "        \n",
    "        probabilities = [.41, .59]\n",
    "        \n",
    "        dollar_amount = np.random.choice(choices, p=probabilities)\n",
    "        \n",
    "        amount_of_money.append(dollar_amount)\n"
   ]
  },
  {
   "cell_type": "code",
   "execution_count": 363,
   "metadata": {},
   "outputs": [],
   "source": [
    "my_data = {'In Class?':in_class, 'Are there good places open?':good_places_open, \n",
    "           'Amount Of Money (In Dollars)':amount_of_money, 'Do I eat out?':eat_out}\n",
    "\n",
    "dummy_set = pd.DataFrame(data=my_data)"
   ]
  },
  {
   "cell_type": "code",
   "execution_count": 319,
   "metadata": {},
   "outputs": [
    {
     "data": {
      "text/html": [
       "<div>\n",
       "<style scoped>\n",
       "    .dataframe tbody tr th:only-of-type {\n",
       "        vertical-align: middle;\n",
       "    }\n",
       "\n",
       "    .dataframe tbody tr th {\n",
       "        vertical-align: top;\n",
       "    }\n",
       "\n",
       "    .dataframe thead th {\n",
       "        text-align: right;\n",
       "    }\n",
       "</style>\n",
       "<table border=\"1\" class=\"dataframe\">\n",
       "  <thead>\n",
       "    <tr style=\"text-align: right;\">\n",
       "      <th></th>\n",
       "      <th>In Class?</th>\n",
       "      <th>Are there good places open?</th>\n",
       "      <th>Amount Of Money (In Dollars)</th>\n",
       "      <th>Do I eat out?</th>\n",
       "    </tr>\n",
       "  </thead>\n",
       "  <tbody>\n",
       "    <tr>\n",
       "      <th>0</th>\n",
       "      <td>True</td>\n",
       "      <td>True</td>\n",
       "      <td>83.46</td>\n",
       "      <td>False</td>\n",
       "    </tr>\n",
       "    <tr>\n",
       "      <th>1</th>\n",
       "      <td>False</td>\n",
       "      <td>True</td>\n",
       "      <td>201.46</td>\n",
       "      <td>True</td>\n",
       "    </tr>\n",
       "    <tr>\n",
       "      <th>2</th>\n",
       "      <td>False</td>\n",
       "      <td>True</td>\n",
       "      <td>244.49</td>\n",
       "      <td>True</td>\n",
       "    </tr>\n",
       "    <tr>\n",
       "      <th>3</th>\n",
       "      <td>True</td>\n",
       "      <td>True</td>\n",
       "      <td>37.84</td>\n",
       "      <td>False</td>\n",
       "    </tr>\n",
       "  </tbody>\n",
       "</table>\n",
       "</div>"
      ],
      "text/plain": [
       "   In Class?  Are there good places open?  Amount Of Money (In Dollars)  \\\n",
       "0       True                         True                         83.46   \n",
       "1      False                         True                        201.46   \n",
       "2      False                         True                        244.49   \n",
       "3       True                         True                         37.84   \n",
       "\n",
       "   Do I eat out?  \n",
       "0          False  \n",
       "1           True  \n",
       "2           True  \n",
       "3          False  "
      ]
     },
     "execution_count": 319,
     "metadata": {},
     "output_type": "execute_result"
    }
   ],
   "source": [
    "dummy_set.head(4)"
   ]
  },
  {
   "cell_type": "markdown",
   "metadata": {},
   "source": [
    "### Generating 'Time of Day' Feature"
   ]
  },
  {
   "cell_type": "markdown",
   "metadata": {},
   "source": [
    "If you eat out on campus, its more likely that your current location is close by your resturant of interest.\n",
    "However, there is still the chance that a resturant is far but you still go out of your way to eat there. For instance, \n",
    "if the good places are still open and you have a good amount of money, and it is not late, then you are likely to go to that resturant even if it is far away. "
   ]
  },
  {
   "cell_type": "code",
   "execution_count": 364,
   "metadata": {},
   "outputs": [],
   "source": [
    "current_time = []\n",
    "\n",
    "for i in range(len(eat_out)):\n",
    "    early = random.randint(10, 19)\n",
    "    late = random.choice([20, 21, 22, 23, 0, 1, 2])\n",
    "    \n",
    "    if eat_out[i] and not in_class[i] and good_places_open[i]:\n",
    "        probabilities_t = [0.80, 0.20]\n",
    "        time_choices_hrs = [early, late]\n",
    "        \n",
    "    elif not eat_out[i] and not in_class[i] and not good_places_open[i]:\n",
    "        probabilities_t = [0.25, 0.75]\n",
    "        time_choices_hrs = [early, late]\n",
    "        \n",
    "    elif not eat_out[i] and in_class[i] and good_places_open[i]:\n",
    "        probabilities_t = [0.60, 0.40]\n",
    "        time_choices_hrs = [early, late]\n",
    "        \n",
    "    elif eat_out[i] and in_class[i]:\n",
    "        probabilities_t = [0.90, 0.10]\n",
    "        time_choices_hrs = [early, late]\n",
    "        \n",
    "    hour = np.random.choice(time_choices_hrs, p=probabilities_t)\n",
    "    minute = random.randint(0, 59)\n",
    "\n",
    "    now = datetime.now()\n",
    "    random_time = datetime(now.year, now.month, now.day, hour, minute)\n",
    "    given_time = random_time.strftime(\"%H:%M\")\n",
    "    current_time.append(given_time) "
   ]
  },
  {
   "cell_type": "code",
   "execution_count": 365,
   "metadata": {},
   "outputs": [],
   "source": [
    "my_data = {'In Class?':in_class, 'Are there good places open?':good_places_open, \n",
    "           'Amount Of Money (In Dollars)':amount_of_money, 'Time of Day (24-Hour)':current_time, \n",
    "           'Do I eat out?':eat_out}\n",
    "\n",
    "dummy_set = pd.DataFrame(data=my_data)"
   ]
  },
  {
   "cell_type": "code",
   "execution_count": 366,
   "metadata": {},
   "outputs": [
    {
     "data": {
      "text/html": [
       "<div>\n",
       "<style scoped>\n",
       "    .dataframe tbody tr th:only-of-type {\n",
       "        vertical-align: middle;\n",
       "    }\n",
       "\n",
       "    .dataframe tbody tr th {\n",
       "        vertical-align: top;\n",
       "    }\n",
       "\n",
       "    .dataframe thead th {\n",
       "        text-align: right;\n",
       "    }\n",
       "</style>\n",
       "<table border=\"1\" class=\"dataframe\">\n",
       "  <thead>\n",
       "    <tr style=\"text-align: right;\">\n",
       "      <th></th>\n",
       "      <th>In Class?</th>\n",
       "      <th>Are there good places open?</th>\n",
       "      <th>Amount Of Money (In Dollars)</th>\n",
       "      <th>Time of Day (24-Hour)</th>\n",
       "      <th>Do I eat out?</th>\n",
       "    </tr>\n",
       "  </thead>\n",
       "  <tbody>\n",
       "    <tr>\n",
       "      <th>0</th>\n",
       "      <td>True</td>\n",
       "      <td>False</td>\n",
       "      <td>83.46</td>\n",
       "      <td>17:42</td>\n",
       "      <td>False</td>\n",
       "    </tr>\n",
       "    <tr>\n",
       "      <th>1</th>\n",
       "      <td>False</td>\n",
       "      <td>True</td>\n",
       "      <td>201.46</td>\n",
       "      <td>14:27</td>\n",
       "      <td>True</td>\n",
       "    </tr>\n",
       "    <tr>\n",
       "      <th>2</th>\n",
       "      <td>False</td>\n",
       "      <td>True</td>\n",
       "      <td>244.49</td>\n",
       "      <td>19:22</td>\n",
       "      <td>True</td>\n",
       "    </tr>\n",
       "    <tr>\n",
       "      <th>3</th>\n",
       "      <td>True</td>\n",
       "      <td>True</td>\n",
       "      <td>37.84</td>\n",
       "      <td>21:25</td>\n",
       "      <td>False</td>\n",
       "    </tr>\n",
       "    <tr>\n",
       "      <th>4</th>\n",
       "      <td>False</td>\n",
       "      <td>True</td>\n",
       "      <td>42.73</td>\n",
       "      <td>18:28</td>\n",
       "      <td>True</td>\n",
       "    </tr>\n",
       "    <tr>\n",
       "      <th>...</th>\n",
       "      <td>...</td>\n",
       "      <td>...</td>\n",
       "      <td>...</td>\n",
       "      <td>...</td>\n",
       "      <td>...</td>\n",
       "    </tr>\n",
       "    <tr>\n",
       "      <th>99995</th>\n",
       "      <td>True</td>\n",
       "      <td>True</td>\n",
       "      <td>234.11</td>\n",
       "      <td>21:45</td>\n",
       "      <td>False</td>\n",
       "    </tr>\n",
       "    <tr>\n",
       "      <th>99996</th>\n",
       "      <td>True</td>\n",
       "      <td>True</td>\n",
       "      <td>162.58</td>\n",
       "      <td>10:13</td>\n",
       "      <td>True</td>\n",
       "    </tr>\n",
       "    <tr>\n",
       "      <th>99997</th>\n",
       "      <td>False</td>\n",
       "      <td>True</td>\n",
       "      <td>173.47</td>\n",
       "      <td>17:49</td>\n",
       "      <td>True</td>\n",
       "    </tr>\n",
       "    <tr>\n",
       "      <th>99998</th>\n",
       "      <td>True</td>\n",
       "      <td>True</td>\n",
       "      <td>25.98</td>\n",
       "      <td>14:19</td>\n",
       "      <td>False</td>\n",
       "    </tr>\n",
       "    <tr>\n",
       "      <th>99999</th>\n",
       "      <td>False</td>\n",
       "      <td>True</td>\n",
       "      <td>49.93</td>\n",
       "      <td>14:14</td>\n",
       "      <td>True</td>\n",
       "    </tr>\n",
       "  </tbody>\n",
       "</table>\n",
       "<p>100000 rows × 5 columns</p>\n",
       "</div>"
      ],
      "text/plain": [
       "       In Class?  Are there good places open?  Amount Of Money (In Dollars)  \\\n",
       "0           True                        False                         83.46   \n",
       "1          False                         True                        201.46   \n",
       "2          False                         True                        244.49   \n",
       "3           True                         True                         37.84   \n",
       "4          False                         True                         42.73   \n",
       "...          ...                          ...                           ...   \n",
       "99995       True                         True                        234.11   \n",
       "99996       True                         True                        162.58   \n",
       "99997      False                         True                        173.47   \n",
       "99998       True                         True                         25.98   \n",
       "99999      False                         True                         49.93   \n",
       "\n",
       "      Time of Day (24-Hour)  Do I eat out?  \n",
       "0                     17:42          False  \n",
       "1                     14:27           True  \n",
       "2                     19:22           True  \n",
       "3                     21:25          False  \n",
       "4                     18:28           True  \n",
       "...                     ...            ...  \n",
       "99995                 21:45          False  \n",
       "99996                 10:13           True  \n",
       "99997                 17:49           True  \n",
       "99998                 14:19          False  \n",
       "99999                 14:14           True  \n",
       "\n",
       "[100000 rows x 5 columns]"
      ]
     },
     "execution_count": 366,
     "metadata": {},
     "output_type": "execute_result"
    }
   ],
   "source": [
    "dummy_set"
   ]
  },
  {
   "cell_type": "code",
   "execution_count": 370,
   "metadata": {},
   "outputs": [],
   "source": [
    "dummy_set.to_feather('Eating_Dataset.feather')"
   ]
  }
 ],
 "metadata": {
  "kernelspec": {
   "display_name": "Data_Science_env",
   "language": "python",
   "name": "python3"
  },
  "language_info": {
   "codemirror_mode": {
    "name": "ipython",
    "version": 3
   },
   "file_extension": ".py",
   "mimetype": "text/x-python",
   "name": "python",
   "nbconvert_exporter": "python",
   "pygments_lexer": "ipython3",
   "version": "3.12.1"
  }
 },
 "nbformat": 4,
 "nbformat_minor": 2
}
