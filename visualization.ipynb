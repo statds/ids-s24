{
  "cells": [
    {
      "cell_type": "markdown",
      "metadata": {},
      "source": [
        "# Visualization\n",
        "\n",
        "## Data Visualization with `matplotlib`\n",
        "\n",
        "This section was written by Weijia Wu.\n"
      ],
      "id": "c70251dd"
    },
    {
      "cell_type": "code",
      "metadata": {},
      "source": [
        "import matplotlib.pyplot as plt\n",
        "import numpy as np\n",
        "import pandas as pd\n",
        "import seaborn as sns"
      ],
      "id": "668aadb3",
      "execution_count": null,
      "outputs": []
    },
    {
      "cell_type": "code",
      "metadata": {},
      "source": [
        "url = 'https://raw.githubusercontent.com/JoannaWuWeijia/Data_Store_WWJ/main/cleaning_data_rodent3.csv'\n",
        "\n",
        "df = pd.read_csv(url)"
      ],
      "id": "fb02e17c",
      "execution_count": null,
      "outputs": []
    },
    {
      "cell_type": "markdown",
      "metadata": {},
      "source": [
        "### Introduction\n",
        "Hi Class, my name is Weijia Wu and I'm a senior double majored in Applied Math and Statistics. \n",
        "The following shows a basic concepts of visulization of python.\n",
        "\n",
        "\n",
        "### Matplotlib\n",
        "Matplotlib is a desktop plotting package designed for plotting \n",
        "and arranging data visually in Python, usually in two-dimensional. \n",
        "It was created by Dr. John Hunter in 2003 as an alternative to Matlab to facilitate \n",
        "scientific computation and data visualization in Python.\n",
        "\n",
        "Matplotlib is widely used because of its simplicity and effectiveness.\n",
        "\n",
        "#### Installation of `Matplotlib`\n",
        "The library can be installed by typing `pip install matplotlib` in your terminal\n",
        "\n",
        "```\n",
        "pip install matplotlib\n",
        "```\n",
        "\n",
        "#### Line Plot \n",
        "\n",
        "##### Single plot with `pyplot` submodule\n",
        "\n",
        "Let's Start with an sample Line Plot example: "
      ],
      "id": "690f0211"
    },
    {
      "cell_type": "code",
      "metadata": {},
      "source": [
        "t = range(0, 10) \n",
        "r = [i**2 for i in t]\n",
        "\n",
        "plt.figure(figsize=(4, 4)) \n",
        "## Width and height in inches\n",
        "plt.plot(t, r)\n",
        "plt.title('Line Plot Example')\n",
        "\n",
        "plt.show()"
      ],
      "id": "67e56e2f",
      "execution_count": null,
      "outputs": []
    },
    {
      "cell_type": "markdown",
      "metadata": {},
      "source": [
        "##### x-label, y-label, and grid:"
      ],
      "id": "2d1d9e0e"
    },
    {
      "cell_type": "code",
      "metadata": {},
      "source": [
        "plt.figure(figsize=(4, 4)) \n",
        "\n",
        "plt.plot(t, r)\n",
        "plt.title('Line Plot Example2')\n",
        "plt.xlabel('t value')\n",
        "plt.ylabel('r value')\n",
        "plt.grid(True)"
      ],
      "id": "4f61d817",
      "execution_count": null,
      "outputs": []
    },
    {
      "cell_type": "markdown",
      "metadata": {},
      "source": [
        "##### Add legend:"
      ],
      "id": "b67f125a"
    },
    {
      "cell_type": "code",
      "metadata": {},
      "source": [
        "plt.figure(figsize=(4, 4)) \n",
        "\n",
        "plt.plot(t, r)\n",
        "plt.title('Line Plot Example3')\n",
        "plt.xlabel('t value')\n",
        "plt.ylabel('r value')\n",
        "plt.grid(True)\n",
        "plt.legend()"
      ],
      "id": "6004b142",
      "execution_count": null,
      "outputs": []
    },
    {
      "cell_type": "markdown",
      "metadata": {},
      "source": [
        "To add a legend to a plot in Matplotlib, you can use the `legend()` function. \n",
        "\n",
        "A legend is a small area on the plot that describes each element of the graph. \n",
        "\n",
        "To effectively use the legend, you typically need to label the elements \n",
        "of the plot that you want to appear in the legend using the label parameter when plotting them. "
      ],
      "id": "9cf342a3"
    },
    {
      "cell_type": "code",
      "metadata": {},
      "source": [
        "plt.legend(loc='lower right', title='Legend Title', fontsize='small')"
      ],
      "id": "65064a69",
      "execution_count": null,
      "outputs": []
    },
    {
      "cell_type": "markdown",
      "metadata": {},
      "source": [
        "The `help(plt.legend)` command in Python is used to display the documentation \n",
        "for the legend function from the Matplotlib library. This documentation \n",
        "includes a description of what the function does, the parameters it accepts, \n",
        "and other relevant information such as return values and examples of how to use the function."
      ],
      "id": "8850f82a"
    },
    {
      "cell_type": "code",
      "metadata": {},
      "source": [
        "help(plt.legend)"
      ],
      "id": "44e30768",
      "execution_count": null,
      "outputs": []
    },
    {
      "cell_type": "markdown",
      "metadata": {},
      "source": [
        "##### Colors, Markers, and Line Styles\n",
        "\n",
        "If we want two plots in the same, we need to find a way to make the distinction between them."
      ],
      "id": "ece266ea"
    },
    {
      "cell_type": "code",
      "metadata": {},
      "source": [
        "r2 = [i**3 for i in t]\n",
        "\n",
        "plt.figure(figsize=(4, 4)) \n",
        "\n",
        "plt.plot(t, r, linestyle = '--', color = 'r', marker = 'o', label = 'r')\n",
        "plt.plot(t, r2, linestyle = '-', color = 'b', marker = 'v', label = 'r2')\n",
        "\n",
        "plt.title('Line Plot Example2')\n",
        "plt.xlabel('t value')\n",
        "plt.ylabel('r value')\n",
        "plt.grid(True)\n",
        "\n",
        "plt.show()"
      ],
      "id": "0e187182",
      "execution_count": null,
      "outputs": []
    },
    {
      "cell_type": "markdown",
      "metadata": {},
      "source": [
        "Use  `linestyle`, `color`, and `Markers` to set linestyles:"
      ],
      "id": "ae006972"
    },
    {
      "cell_type": "code",
      "metadata": {},
      "source": [
        "## help(plt.plot)"
      ],
      "id": "506a0bab",
      "execution_count": null,
      "outputs": []
    },
    {
      "cell_type": "markdown",
      "metadata": {},
      "source": [
        "### Example with rodent data: \n",
        "\n",
        "Let's use our rodent data to demonstrate the Monthly Reported data: "
      ],
      "id": "ca968005"
    },
    {
      "cell_type": "code",
      "metadata": {},
      "source": [
        "df['Created Date'] = pd.to_datetime(df['Created Date'])\n",
        "\n",
        "df['Month'] = df['Created Date'].dt.to_period('M')\n",
        "monthly_counts = df.groupby('Month').size()\n",
        "\n",
        "plt.figure(figsize=(10, 8))\n",
        "monthly_counts.plot(kind='line')\n",
        "plt.title('Monthly Report Count')\n",
        "plt.xlabel('Month')\n",
        "plt.ylabel('Number of Reports')\n",
        "plt.grid(True)\n",
        "plt.xticks(rotation=45)\n",
        "\n",
        "plt.show()"
      ],
      "id": "525d460c",
      "execution_count": null,
      "outputs": []
    },
    {
      "cell_type": "markdown",
      "metadata": {},
      "source": [
        "This plot shows the number of rodents in each month's report,\n",
        " and we can draw the following conclusions: rodent sights occur mostly in\n",
        "  the spring and summer, and they fall dramatically after the start of autumn (post-August).\n",
        "\n",
        "\n",
        "#### Scatter plot"
      ],
      "id": "96a65c97"
    },
    {
      "cell_type": "code",
      "metadata": {},
      "source": [
        "np.random.seed(8465);\n",
        "\n",
        "x = np.random.uniform(0, 3, 10);\n",
        "y = np.random.uniform(0, 3, 10);\n",
        "z = np.random.uniform(0, 3, 10);\n",
        "\n",
        "plt.scatter(x, y)\n",
        "plt.xlabel('X')\n",
        "plt.ylabel('Y')\n",
        "\n",
        "plt.show()"
      ],
      "id": "d1825e34",
      "execution_count": null,
      "outputs": []
    },
    {
      "cell_type": "markdown",
      "metadata": {},
      "source": [
        "#### Bar Plot"
      ],
      "id": "1a88dd3f"
    },
    {
      "cell_type": "code",
      "metadata": {},
      "source": [
        "borough_counts = df['Borough'].value_counts()\n",
        "\n",
        "plt.figure(figsize=(8, 6))  \n",
        "plt.bar(borough_counts.index, borough_counts.values, color='green')\n",
        "plt.xlabel('Borough')  \n",
        "plt.ylabel('Number of Rodent Sightings')  \n",
        "plt.title('Rodent Sightings by Borough') \n",
        "plt.xticks(rotation=45)  # Rotate the X axis by 45 degrees to show the long labels\n",
        "\n",
        "plt.show()"
      ],
      "id": "cc472efe",
      "execution_count": null,
      "outputs": []
    },
    {
      "cell_type": "markdown",
      "metadata": {},
      "source": [
        "#### Multiple plots using `subplots` submodule"
      ],
      "id": "5bc7398d"
    },
    {
      "cell_type": "code",
      "metadata": {},
      "source": [
        "df['Created Date'] = pd.to_datetime(df['Created Date'])\n",
        "df['Date'] = df['Created Date'].dt.date\n",
        "daily_reports = df.groupby(['Date', 'Incident Zip']).size().reset_index(name='Counts')\n",
        "sample_zip = daily_reports['Incident Zip'].dropna().iloc[0]\n",
        "sample_data = daily_reports[daily_reports['Incident Zip'] == sample_zip]\n",
        "\n",
        "## 2x2 Plot\n",
        "fig, axs = plt.subplots(2, 2, figsize=(8, 8))\n",
        "\n",
        "## Line Plot\n",
        "axs[0, 0].plot(sample_data['Date'], sample_data['Counts'], '-o', color='green')\n",
        "axs[0, 0].set_title(f'Linear Plot of Reports for Zip {sample_zip}')\n",
        "axs[0, 0].tick_params(labelrotation=45)\n",
        "\n",
        "## Box Plot\n",
        "axs[0, 1].boxplot(df['Y Coordinate (State Plane)'].dropna())\n",
        "axs[0, 1].set_title('Boxplot of Y Coordinate')\n",
        "\n",
        "## barplot\n",
        "status_counts = df['Status'].value_counts()\n",
        "axs[1, 0].bar(status_counts.index, status_counts.values, color='skyblue')\n",
        "axs[1, 0].set_title('Barplot of Status Counts')\n",
        "axs[1, 0].tick_params(labelrotation=45)\n",
        "\n",
        "## histogram\n",
        "axs[1, 1].hist(df['Latitude'].dropna(), bins=30, color='orange')\n",
        "axs[1, 1].set_title('Histogram of Latitude')\n",
        "\n",
        "plt.tight_layout()\n",
        "plt.show()"
      ],
      "id": "543f8e48",
      "execution_count": null,
      "outputs": []
    },
    {
      "cell_type": "markdown",
      "metadata": {},
      "source": [
        "#### Save the files\n",
        "\n",
        "`help(plt.savefig)`allows you to save the current figure created by\n",
        " Matplotlib to a file. You can specify the filename and various \n",
        " options to control the format, quality, and layout of the output file.\n"
      ],
      "id": "054b7ba9"
    },
    {
      "cell_type": "code",
      "metadata": {},
      "source": [
        "## help(plt.savefig)"
      ],
      "id": "3dcea3f7",
      "execution_count": null,
      "outputs": []
    },
    {
      "cell_type": "markdown",
      "metadata": {},
      "source": [
        "### Pandas\n",
        "\n",
        "Pandas plotting is built on top of Matplotlib, and one of its main \n",
        "benefits is that it allows you to generate plots with fewer lines of \n",
        "code directly from Pandas data structures like DataFrames and Series. \n",
        "This integration simplifies the process of visualizing data for analysis.\n",
        "\n",
        "\n",
        "#### Line Plot\n",
        "\n",
        "##### Single plot"
      ],
      "id": "56c94734"
    },
    {
      "cell_type": "code",
      "metadata": {},
      "source": [
        "monthly_counts.plot(kind='line')"
      ],
      "id": "17cf6449",
      "execution_count": null,
      "outputs": []
    },
    {
      "cell_type": "markdown",
      "metadata": {},
      "source": [
        "Because the line plot is default in pandas plots, you can omit the (kind='line')\n",
        "\n",
        "When plotting with the .plot() method in Pandas, it is true that you can \n",
        "generate basic plots with fewer lines of code, due to the fact that Pandas\n",
        " automatically handles some of the basic settings, such as setting the \n",
        " x-axis labels automatically. However, for more detailed chart customization, \n",
        " such as setting gridlines, rotating x-axis labels, and so on, \n",
        " you may need additional Matplotlib commands to implement them.\n"
      ],
      "id": "5511b392"
    },
    {
      "cell_type": "code",
      "metadata": {},
      "source": [
        "plt.figure(figsize=(8, 6))\n",
        "monthly_counts.plot(kind='line')\n",
        "\n",
        "plt.title('Monthly Report Count')\n",
        "plt.xlabel('Month')\n",
        "plt.ylabel('Number of Reports')\n",
        "plt.grid(True)\n",
        "plt.xticks(rotation=45)\n",
        "## For longer tags, avoid overlapping\n",
        "\n",
        "plt.show()"
      ],
      "id": "1ade827d",
      "execution_count": null,
      "outputs": []
    },
    {
      "cell_type": "markdown",
      "metadata": {},
      "source": [
        "##### Multi-Lineplot\n",
        "The following is showing several line plots in the same figure. "
      ],
      "id": "d278b1b4"
    },
    {
      "cell_type": "code",
      "metadata": {},
      "source": [
        "community_counts = df['Community Districts'].value_counts().sort_index()\n",
        "city_council_counts = df['City Council Districts'].value_counts().sort_index()\n",
        "police_precincts_counts = df['Police Precincts'].value_counts().sort_index()\n",
        "\n",
        "counts_df = pd.DataFrame({\n",
        "    'Community Districts': community_counts,\n",
        "    'City Council Districts': city_council_counts,\n",
        "    'Police Precincts': police_precincts_counts\n",
        "})\n",
        "counts_df = counts_df.fillna(0) \n",
        "##Fill missing values to 0\n",
        "\n",
        "counts_df[['Community Districts', 'City Council Districts', \n",
        "'Police Precincts']].plot() "
      ],
      "id": "c8835d54",
      "execution_count": null,
      "outputs": []
    },
    {
      "cell_type": "markdown",
      "metadata": {},
      "source": [
        "When you use the .plot() method on a Pandas DataFrame to create a multi-line plot,\n",
        " each line in the plot is automatically assigned a different color to \n",
        " help distinguish between the different data columns visually. \n",
        " The colors are chosen from a default color cycle provided by Matplotlib. \n",
        "\n",
        "If you want to customize the color: "
      ],
      "id": "54c0f377"
    },
    {
      "cell_type": "code",
      "metadata": {},
      "source": [
        "counts_df[['Community Districts', 'City Council Districts', 'Police Precincts']].plot(\n",
        "    color=['red', 'green', 'blue']  # Custom colors for each line\n",
        ")"
      ],
      "id": "e0eb4acf",
      "execution_count": null,
      "outputs": []
    },
    {
      "cell_type": "markdown",
      "metadata": {},
      "source": [
        "#### Additional arguments\n",
        "\n",
        "For more info pleased check:"
      ],
      "id": "e4eb343a"
    },
    {
      "cell_type": "code",
      "metadata": {},
      "source": [
        "![additional arguments](https://drive.google.com/file/d/1j5T7_VMT1Nt4myukcmar0UMcZOHqurCk/view?usp=sharing)"
      ],
      "id": "15507e07",
      "execution_count": null,
      "outputs": []
    },
    {
      "cell_type": "code",
      "metadata": {},
      "source": [
        "## help(plt.plot)"
      ],
      "id": "23f5b2d2",
      "execution_count": null,
      "outputs": []
    },
    {
      "cell_type": "markdown",
      "metadata": {},
      "source": [
        "#### Bar Plot\n",
        "\n",
        "For categorical data, one of common visualization is the barplot.\n",
        "\n",
        "+ Generated using `df.plot.bar()` method,\n",
        "for horizontal version `df.plot.barh()`.\n",
        "\n",
        "##### Side-by-side Bar Plot:\n",
        "\n",
        "Let's use Borough and Location Type to generate a side-by-side bar plot, one horizontal and one vertical:"
      ],
      "id": "d6689e7a"
    },
    {
      "cell_type": "code",
      "metadata": {},
      "source": [
        "fig, axs = plt.subplots(nrows=1, ncols=2, figsize=(8, 6))\n",
        "\n",
        "## Vertical bar plot for Borough counts\n",
        "df.groupby(['Borough']).size().plot.bar(ax=axs[0], color='skyblue', rot=0)\n",
        "axs[0].set_title('Bar plot for Borough')\n",
        "\n",
        "## Horizontal bar plot for Location Type counts\n",
        "df.groupby(['Location Type']).size().plot.barh(ax=axs[1], color='lightgreen')\n",
        "axs[1].set_title('Bar plot for Location Type')\n",
        "\n",
        "\n",
        "plt.tight_layout()\n",
        "plt.show()"
      ],
      "id": "21cc43e7",
      "execution_count": null,
      "outputs": []
    },
    {
      "cell_type": "markdown",
      "metadata": {},
      "source": [
        "Similiar with `axs` in matplotlib:\n",
        "\n",
        "+ `nrows=1` means there will be 1 row of subplots.\n",
        "+ `ncols=2 `means there will be 2 columns of subplots.\n",
        "\n",
        "##### Grouped Bar Plot\n",
        "This type of plot is useful for comparing the distribution within each class side by side."
      ],
      "id": "cd5d0fd9"
    },
    {
      "cell_type": "code",
      "metadata": {},
      "source": [
        "class_Borough = pd.crosstab(df[\"Borough\"], df[\"Status\"])\n",
        "\n",
        "class_Borough.plot.bar(rot=45, figsize=(8, 6))"
      ],
      "id": "ba1fc9e5",
      "execution_count": null,
      "outputs": []
    },
    {
      "cell_type": "markdown",
      "metadata": {},
      "source": [
        "##### Stacked Bar Plot\n",
        "This plot is useful for comparing the total counts across \n",
        "borough while still being able to see the proportion of each borough within each class."
      ],
      "id": "15398f30"
    },
    {
      "cell_type": "code",
      "metadata": {},
      "source": [
        "class_Borough.plot.bar(stacked=True)"
      ],
      "id": "7c7680b9",
      "execution_count": null,
      "outputs": []
    },
    {
      "cell_type": "markdown",
      "metadata": {},
      "source": [
        "#### Histogram and Density Plots\n",
        "\n",
        "For numeric data, histogram allows us to see the distribution (center shape, skewness) of the data.\n",
        "\n",
        "Histogram can be generated using `df.plot.hist()`\n",
        "method\n",
        "\n",
        "Since we have limited numeric data in our rodent data, \n",
        "I used student achievement data to present it:"
      ],
      "id": "258bdeef"
    },
    {
      "cell_type": "code",
      "metadata": {},
      "source": [
        "url2 = 'https://raw.githubusercontent.com/JoannaWuWeijia/Data_Store_WWJ/main/grades_example.csv'\n",
        "df2 = pd.read_csv(url2)"
      ],
      "id": "4d5f641f",
      "execution_count": null,
      "outputs": []
    },
    {
      "cell_type": "code",
      "metadata": {},
      "source": [
        "df2[\"Grade\"].plot.hist(bins = 10, figsize=(8, 6))"
      ],
      "id": "8ee3ab1d",
      "execution_count": null,
      "outputs": []
    },
    {
      "cell_type": "markdown",
      "metadata": {},
      "source": [
        "As can be seen from the plot, the students' scores show a normal distribution, \n",
        "with most of them clustered in the 70-80 range"
      ],
      "id": "c76c9e61"
    },
    {
      "cell_type": "code",
      "metadata": {},
      "source": [
        "df2[\"Grade\"].plot.density()"
      ],
      "id": "d2b42751",
      "execution_count": null,
      "outputs": []
    },
    {
      "cell_type": "markdown",
      "metadata": {},
      "source": [
        "#### Scatter Plots\n",
        "When dealing with two variables, scatter plot allow us to \n",
        "examine if there is any correlation between them.\n",
        "\n",
        "Scatter can be generated using `df.plot.scatter(x = col1, y = col2)` method."
      ],
      "id": "20b58b38"
    },
    {
      "cell_type": "code",
      "metadata": {},
      "source": [
        "url3 = 'https://raw.githubusercontent.com/JoannaWuWeijia/Data_Store_WWJ/main/student_example3.csv'\n",
        "df3 = pd.read_csv(url3)"
      ],
      "id": "47a91ed3",
      "execution_count": null,
      "outputs": []
    },
    {
      "cell_type": "code",
      "metadata": {},
      "source": [
        "df3.plot.scatter(x=\"Weight\", y=\"Height\", figsize=(8, 6))"
      ],
      "id": "e8b4febb",
      "execution_count": null,
      "outputs": []
    },
    {
      "cell_type": "markdown",
      "metadata": {},
      "source": [
        "As you can see it's roughly a linear regression, \n",
        "and I'll cover how to add a regression line in the next sns section.\n",
        "\n",
        "### Seaborn\n",
        "+ Seaborn is designed to work directly with pandas DataFrames, \n",
        "making plotting more convenient by allowing direct use of DataFrame \n",
        "columns for specifying data in plots.\n",
        "\n",
        "+ Seaborn makes it easy to add linear regression lines and other \n",
        "statistical models to your charts, simplifying the process of statistical data visualization.\n",
        "\n",
        "+ Seaborn's default styles and color are more aesthetically \n",
        "pleasing and modern compared to Matplotlib.\n",
        "\n",
        "#### Installation of `Seaborn`\n",
        "\n",
        "```\n",
        "pip install seaborn\n",
        "```\n",
        "\n",
        "#### Histogram and Density Plots"
      ],
      "id": "6b0d0c34"
    },
    {
      "cell_type": "code",
      "metadata": {},
      "source": [
        "## help(sns.histplot) "
      ],
      "id": "00f0c962",
      "execution_count": null,
      "outputs": []
    },
    {
      "cell_type": "code",
      "metadata": {},
      "source": [
        "plt.figure(figsize=(8, 6))\n",
        "sns.histplot(df2['Grade'], bins=10, kde = True)"
      ],
      "id": "53344ef2",
      "execution_count": null,
      "outputs": []
    },
    {
      "cell_type": "markdown",
      "metadata": {},
      "source": [
        "`bins`: The number of bars in the histogram. \n",
        "More bins can make the data distribution more detailed, \n",
        "but too many may cause the chart to be difficult to understand; \n",
        "fewer bins may not be able to show the data distribution accurately.\n",
        "`kde `: (Kernel Density Estimate Line) a density curve will \n",
        "be added to the histogram, which is generated by kernel density \n",
        "estimation and can help understand the shape of the data distribution\n",
        "\n",
        "#### Scatter plot with Regression line\n",
        "\n",
        "I used an example with less data to be able to show it. \n",
        "We can see that the height and weight of the students are directly proportional."
      ],
      "id": "53739a6e"
    },
    {
      "cell_type": "code",
      "metadata": {},
      "source": [
        "df4 = pd.DataFrame({\n",
        "    'Student': ['Alice', 'Bob', 'Charlie', 'David', \n",
        "    'Eva', 'Fiona', 'George', 'Hannah', 'Ian', 'Julia'],\n",
        "    'Height': [160, 172, 158, 165, 170, 162, 175, 168, 180, 155],\n",
        "    'Weight': [55, 72, 60, 68, 62, 56, 80, 65, 75, 50]})\n",
        "\n",
        "plt.figure(figsize = (8, 6))\n",
        "sns.regplot(x='Weight', y='Height', data=df4)"
      ],
      "id": "d1110fa7",
      "execution_count": null,
      "outputs": []
    },
    {
      "cell_type": "markdown",
      "metadata": {},
      "source": [
        "#### Categorical Data\n",
        "\n",
        "##### barplot"
      ],
      "id": "cd3f8d96"
    },
    {
      "cell_type": "code",
      "metadata": {},
      "source": [
        "np.random.seed(0) \n",
        "genders = np.random.choice(['Male', 'Female'], size=500)\n",
        "classes = np.random.choice(['A', 'B', 'C', 'D'], size=500)\n",
        "grades = np.random.choice(['Excellent', 'Good', 'Average', 'Poor'], size=500)\n",
        "df4 = pd.DataFrame({'Gender': genders, 'Class': classes, 'Grades': grades})"
      ],
      "id": "7ff6a360",
      "execution_count": null,
      "outputs": []
    },
    {
      "cell_type": "code",
      "metadata": {},
      "source": [
        "sns.catplot(x='Class', hue='Gender', col='Grades', \n",
        "kind='count', data=df4, height=5, col_wrap=2)\n",
        "plt.show()"
      ],
      "id": "1cd930fd",
      "execution_count": null,
      "outputs": []
    },
    {
      "cell_type": "markdown",
      "metadata": {},
      "source": [
        "+ `x='Class'`: This sets the x-axis to represent different classes, \n",
        "so each class will have its own set of bars in the plot.\n",
        "\n",
        "+ `hue='Gender'`: This parameter adds a color coding (hue) based on the 'Gender' column\n",
        "\n",
        "+ `col='Grades'`: This creates separate subplots (columns) for \n",
        "each unique value in the 'Grades' column (e.g., Excellent, Good, Average, Poor), \n",
        "effectively grouping the data by grades.\n",
        "\n",
        "+ `col_wrap=2`: Limits the number of these subplots to 2 per row. \n",
        "If there are more than 2 unique grades, additional rows \n",
        "will be created to accommodate all the subplots.\n",
        "\n",
        "+ `kind='count'`: Specifies the kind of plot to draw. In this case, \n",
        "`'count' `means it will count the occurrences of each category \n",
        "combination and display this as bars in the plot.\n",
        "\n",
        "+ `height`=5: Sets the height of each subplot to 5 inches.\n",
        "\n",
        "##### Box Plot"
      ],
      "id": "e7f13a8d"
    },
    {
      "cell_type": "code",
      "metadata": {},
      "source": [
        "sns.boxplot(x='Gender', y='Grades', hue='Class', data=df4)\n",
        "plt.show()"
      ],
      "id": "c23a0b75",
      "execution_count": null,
      "outputs": []
    },
    {
      "cell_type": "markdown",
      "metadata": {},
      "source": [
        "+ `x='Gender'`:  x-axis variable\n",
        "\n",
        "+ `y='Grades'`: y-axis variable, which in this case is 'Grades'. \n",
        "Since 'Grades' is a categorical variable with values like 'Excellent', 'Good', 'Average', 'Poor'\n",
        "\n",
        "+ `col='Class'`: Creates separate subplots for each unique value \n",
        "in the 'Class' column, effectively grouping the data by class.\n",
        "\n",
        "\n",
        "##### Categorical Data Help"
      ],
      "id": "b02435eb"
    },
    {
      "cell_type": "code",
      "metadata": {},
      "source": [
        "##help(sns.catplot)"
      ],
      "id": "472faa40",
      "execution_count": null,
      "outputs": []
    },
    {
      "cell_type": "markdown",
      "metadata": {},
      "source": [
        "### Conclusion\n",
        "\n",
        "`Matplotlib` is the foundation for making plots in Python.\n",
        "\n",
        "`pandas` uses Matplotlib for its plotting features but is mainly for handling data.\n",
        "\n",
        "`Seaborn` makes Matplotlib prettier and easier to use, especially with pandas data.\n",
        "\n",
        "\n",
        "\n",
        "\n",
        "### References\n",
        "+ https://matplotlib.org/stable/users/project/history.html\n",
        "+ https://matplotlib.org/stable/gallery/lines_bars_and_markers/simple_plot.html\n",
        "+ https://www.simplilearn.com/tutorials/python-tutorial/matplotlib\n",
        "+ https://www.w3schools.com/python/pandas/pandas_plotting.asp\n",
        "+ https://github.com/mwaskom/seaborn/tree/master/seaborn\n",
        "+ https://seaborn.pydata.org/installing.html\n",
        "+ https://ritza.co/articles/matplotlib-vs-seaborn-vs-plotly-vs-MATLAB-vs-ggplot2-vs-pandas/\n",
        "\n",
        "## Grammar of Graphics with `Plotnine`\n",
        "\n",
        "This section was written by Olivia Massad.\n",
        "\n",
        "\n",
        "### Introduction\n",
        "\n",
        "Hello everyone! My name is Olivia Massad and I am a junior Statistical\n",
        "Data Science Major. I am very interested in sports statistics and analytics,\n",
        "especially involving football, and am very excited to learn more about coding \n",
        "and data science in this class. Today I will be talking about grammar of \n",
        "graphics for python, using `Plotnine`. This is a new topic for me so I am very\n",
        "excited to show you all what we can do with it.\n",
        "\n",
        "\n",
        "### What is Grammar of Graphics?\n",
        "\n",
        "Similarly to how languages have grammar in order to structure language and create\n",
        "a standard for how sentences and words should be arranged, grammar of graphics \n",
        "provides the framework for a consistent way to structure and create statistical \n",
        "visualizations. This framework helps us to create graphs and visualizations which \n",
        "can be widely understood due to the consistent structure. The major components \n",
        "of grammar of graphics are:\n",
        "\n",
        "- Data: our datasets and the what components you want to visualize.\n",
        "\n",
        "- Aesthetics: axes, position of data points, color, shape, size.\n",
        "\n",
        "- Scale: scale values or use specific scales depending on multiple values\n",
        "and ranges.\n",
        "\n",
        "- Geometric objects: how data points are depicted, whether they're points,\n",
        "lines, bars, etc.\n",
        "\n",
        "- Statistics: statistical measures of the data included in the graphic, \n",
        "including mean, spread, confidence intervals, etc.\n",
        "\n",
        "- Facets: subplots for specific data dimensions.\n",
        "\n",
        "- Coordinate system: cartesian or polar.\n",
        "\n",
        "\n",
        "### What can you do with `Plotnine`?\n",
        "\n",
        "`Plotnine` is a program which implements grammar of graphics in order to \n",
        "create data visualizations and graphs using python. It is based on `ggplot2`\n",
        "and allows for many variations within graphs. Some examples of things we can\n",
        "create with `plotnine` are:\n",
        "\n",
        "- Bar Charts\n",
        "- Histograms\n",
        "- Box Plots\n",
        "- Scatter Plots\n",
        "- Line Charts\n",
        "- Time Series\n",
        "- Density Plots\n",
        "- etc.\n",
        "\n",
        "\n",
        "### Using `Plotnine`\n",
        "\n",
        "In order to use `plotnine` we first need to install the package using \n",
        "our command line.\n",
        "\n",
        "With `conda`:\n",
        "\"conda install -c conda-forge plotnine\"\n",
        "\n",
        "With `pip`:\n",
        "\"pip install plotnine\n",
        "pip install plotnine[all]\"\n",
        "\n",
        "Now that `plotnine` is installed, we must call the it in python."
      ],
      "id": "9b7a2adf"
    },
    {
      "cell_type": "code",
      "metadata": {},
      "source": [
        "from plotnine import *\n",
        "from plotnine.data import *"
      ],
      "id": "1a3f5268",
      "execution_count": null,
      "outputs": []
    },
    {
      "cell_type": "markdown",
      "metadata": {},
      "source": [
        "Now that `plotnine` is installed and imported, we can begin to make\n",
        "graphs and plots. Below are different examples of visualizations we\n",
        "can make using `plotnine` and the personalizations we can add to them. \n",
        "For these graphics I used the rodent sighting data from the NYC open data\n",
        "311 requests. We also will need pandas and numpy for some of these graphs\n",
        "so we need to import those as well. Additionally, because the data set is\n",
        "so large, we will only be lookng at the first 500 complaints."
      ],
      "id": "a9948cf5"
    },
    {
      "cell_type": "code",
      "metadata": {},
      "source": [
        "from plotnine import *\n",
        "from plotnine.data import *\n",
        "import pandas as pd \n",
        "import numpy as np \n",
        "import os\n",
        "folder = 'data'\n",
        "file = 'rodent_2022-2023.feather'\n",
        "path = os.path.join(folder, file)\n",
        "data = pd.read_feather(path)\n",
        "data_used = data.head(500)"
      ],
      "id": "073727f0",
      "execution_count": null,
      "outputs": []
    },
    {
      "cell_type": "markdown",
      "metadata": {},
      "source": [
        "#### Bar Chart\n",
        "\n",
        "One common type of visualization we can create with `plotnine` is a \n",
        "bar chart. For this graph we will look at the data for the descriptors\n",
        "of each complaint."
      ],
      "id": "1e1245a3"
    },
    {
      "cell_type": "code",
      "metadata": {},
      "source": [
        "(ggplot(data_used, aes(x = 'descriptor')) \n",
        "    + geom_bar())"
      ],
      "id": "3a987ef4",
      "execution_count": null,
      "outputs": []
    },
    {
      "cell_type": "markdown",
      "metadata": {},
      "source": [
        "While this code provides us with a nice simple chart, because we are using\n",
        "`plotnine`, we can make some major improvements to the visualization to\n",
        "make it easier to read and more appealing. Some simple things we can do are:\n",
        "\n",
        "- Add a title.\n",
        "- Color code the bars. \n",
        "- Change the orientation of the graph.\n",
        "- Add titles to the axes."
      ],
      "id": "dceb0027"
    },
    {
      "cell_type": "code",
      "metadata": {},
      "source": [
        "(ggplot(data_used, aes(x = 'descriptor', fill = 'descriptor')) \n",
        "        # Color code the bars.\n",
        "    + geom_bar() # Bar Chart\n",
        "    + ggtitle('Descriptor Counts') # Add a title.\n",
        "    + coord_flip() # Change the orientation of the graph.\n",
        "    + xlab(\"Descriptor\") # Add title to x axis.\n",
        "    + ylab(\"Number of Complaints\") # Add titles to y axis.\n",
        ")"
      ],
      "id": "2cd2b1f4",
      "execution_count": null,
      "outputs": []
    },
    {
      "cell_type": "markdown",
      "metadata": {},
      "source": [
        "Some more complex changes we can make to our graph are:\n",
        "\n",
        "- Change the orientation of the words on the axes to make them easier to read.\n",
        "- Add color coded descriptors to each bar."
      ],
      "id": "b06119d0"
    },
    {
      "cell_type": "code",
      "metadata": {},
      "source": [
        "(ggplot(data_used, aes(x = 'descriptor', fill = 'borough')) \n",
        "        # Add color coded descriptors.\n",
        "    + geom_bar() # Bar Chart\n",
        "    + ggtitle('Descriptor Counts') # Add a title.\n",
        "    + xlab(\"Descriptor\") # Add title to x axis.\n",
        "    + ylab(\"Number of Complaints\") # Add titles to y axis.\n",
        "    + theme(axis_text_x=element_text(angle=45))\n",
        "     # Change the orientation of the words.\n",
        ")"
      ],
      "id": "b1864434",
      "execution_count": null,
      "outputs": []
    },
    {
      "cell_type": "markdown",
      "metadata": {},
      "source": [
        "#### Scatter Plot\n",
        "\n",
        "Another common visualization we can create is a scatterplot. When looking \n",
        "at the data from the 311 requests, we can see that there are many data \n",
        "points for locations of these complaints. A scatter plot would be a great \n",
        "way to see the location of the complaints by graphing the longitudes and \n",
        "latitudes. In order to better see the points, for this \n",
        "graph we will only use the first 200 complaints."
      ],
      "id": "2af49a95"
    },
    {
      "cell_type": "code",
      "metadata": {},
      "source": [
        "data_scatter = data.tail(200)\n",
        "(ggplot(data_scatter, aes(x = 'longitude', y = 'latitude')) \n",
        "    + geom_point())"
      ],
      "id": "4b6f3ec8",
      "execution_count": null,
      "outputs": []
    },
    {
      "cell_type": "markdown",
      "metadata": {},
      "source": [
        "Similarly to the original code for the bar chart, this code provides a\n",
        "very simple scatter plot. `Plotnine` allows us to add many specializations \n",
        "to the scatterplot in order to differentiate the points from each other. \n",
        "We can:\n",
        "\n",
        "- Add color to the points.\n",
        "- Differentiate using point size.\n",
        "- Differentiate using point shape."
      ],
      "id": "1011a3cf"
    },
    {
      "cell_type": "code",
      "metadata": {},
      "source": [
        "(ggplot(data_scatter, aes(x = 'longitude', y = 'latitude',\n",
        "       color = 'location_type')) # Add color to the points.\n",
        "    + geom_point())"
      ],
      "id": "53b90985",
      "execution_count": null,
      "outputs": []
    },
    {
      "cell_type": "code",
      "metadata": {},
      "source": [
        "(ggplot(data_scatter, aes(x = 'longitude', y = 'latitude',\n",
        "    size = 'descriptor', # Differentiate using point size.\n",
        "    shape = 'borough')) # Differentiate using point shape.\n",
        "    + geom_point())"
      ],
      "id": "872cc2c3",
      "execution_count": null,
      "outputs": []
    },
    {
      "cell_type": "markdown",
      "metadata": {},
      "source": [
        "We can see that due to the close data points, filtering the data using\n",
        "size and shape can become a little congested. One thing we can do to fix\n",
        "this while still viewing the same data is through the use of \"facet_grid\"."
      ],
      "id": "78a8c008"
    },
    {
      "cell_type": "code",
      "metadata": {},
      "source": [
        "(ggplot(data_scatter, aes(x = 'longitude', y = 'latitude',\n",
        "    shape = 'borough')) # Differentiate using point shape.\n",
        "    + geom_point()\n",
        "    + facet_grid('descriptor ~ .') # Create multiple plots.\n",
        ")"
      ],
      "id": "3ae0a3d3",
      "execution_count": null,
      "outputs": []
    },
    {
      "cell_type": "code",
      "metadata": {},
      "source": [
        "(ggplot(data_scatter, aes(x = 'longitude', y = 'latitude'))\n",
        "    + geom_point()\n",
        "    + facet_grid('descriptor ~ borough') \n",
        "        # Create multiple plots with 2 conditions.\n",
        "    + theme(strip_text_y = element_text(angle = 0), # change facet text angle\n",
        "        axis_text_x=element_text(angle=45)) # change x axis text angle\n",
        ")"
      ],
      "id": "a822d810",
      "execution_count": null,
      "outputs": []
    },
    {
      "cell_type": "markdown",
      "metadata": {},
      "source": [
        "#### Histogram\n",
        "\n",
        "The last common graph we will cover using `plotnine` is a histogram.\n",
        "Here we will use the created date data as a continuous variable. Using \n",
        "`plotnine` we are able to make many of the same personalizations we \n",
        "were able to do with bar charts."
      ],
      "id": "e8656dc1"
    },
    {
      "cell_type": "code",
      "metadata": {},
      "source": [
        "data_used['created_date']=pd.to_datetime(\n",
        "  data_used['created_date'],\n",
        "  format = \"%m/%d/%Y %I:%M:%S %p\", errors='coerce')\n",
        "(ggplot(data_used, aes(x='created_date'))\n",
        "    + geom_histogram())"
      ],
      "id": "2cbb2c37",
      "execution_count": null,
      "outputs": []
    },
    {
      "cell_type": "markdown",
      "metadata": {},
      "source": [
        "Now that we have a simple histogram with our data we can add specializations,\n",
        "inclduing:\n",
        "\n",
        "- Change width of bins.\n",
        "- Change oreintation of graph.\n",
        "- Add color coded descriptors.\n",
        "- Change outline color.\n",
        "- Change the orientation of the words on the axes to make them easier to read."
      ],
      "id": "aaa9d397"
    },
    {
      "cell_type": "code",
      "metadata": {},
      "source": [
        "(ggplot(data_used, aes(x='created_date', fill = 'borough')) \n",
        "        # Add color coded descriptors.\n",
        "    + geom_histogram(binwidth=1,  # Change width of bins\n",
        "      color = 'black') # Change outline color.\n",
        "    + theme(axis_text_x=element_text(angle=45)) \n",
        "        # Change the orientation of the words.\n",
        ")"
      ],
      "id": "00d9b416",
      "execution_count": null,
      "outputs": []
    },
    {
      "cell_type": "code",
      "metadata": {},
      "source": [
        "(ggplot(data_used, aes(x='created_date', fill = 'borough')) \n",
        "        # Add color coded descriptors.\n",
        "    + geom_histogram(binwidth=1,  # Change width of bins\n",
        "      colour = 'black') # Change outline color.\n",
        "    + coord_flip() # Change oreintation of graph.\n",
        ")"
      ],
      "id": "0506dec4",
      "execution_count": null,
      "outputs": []
    },
    {
      "cell_type": "markdown",
      "metadata": {},
      "source": [
        "While we're able to color code the histogram to show other descriptors \n",
        "of the data, another way we can do this with `plotnine` is through the use\n",
        "of multiple graphs. Using \"facet_wrap\" we can create a multi facet graph with \n",
        "the same data."
      ],
      "id": "8089db7d"
    },
    {
      "cell_type": "code",
      "metadata": {},
      "source": [
        "(ggplot(data_used, aes(x='created_date')) \n",
        "    + geom_histogram(binwidth=1) # Change width of bins\n",
        "    + facet_wrap('borough') # Create multiple graphs.\n",
        "    + theme(axis_text_x=element_text(angle=45)) \n",
        "    # Change the orientation of the words.\n",
        ")"
      ],
      "id": "064cc204",
      "execution_count": null,
      "outputs": []
    },
    {
      "cell_type": "markdown",
      "metadata": {},
      "source": [
        "#### Density Plot\n",
        "\n",
        "The last visualization we're going to look at is density plots. While less \n",
        "common than the graphs previously discussed, density plots show the \n",
        "distribution of a specific variable."
      ],
      "id": "53d583ad"
    },
    {
      "cell_type": "code",
      "metadata": {},
      "source": [
        "(ggplot(data_used, aes(x='created_date'))\n",
        "    + geom_density())"
      ],
      "id": "cf2709a6",
      "execution_count": null,
      "outputs": []
    },
    {
      "cell_type": "markdown",
      "metadata": {},
      "source": [
        "Above we can see a very simple density graph with very little description. Using\n",
        "`plotnine` we are able to:\n",
        "\n",
        "- Add color coded descriptors.\n",
        "- Scale groups by relative size.\n",
        "- Change the orientation of the words on the axes to make them easier to read."
      ],
      "id": "df6b6a81"
    },
    {
      "cell_type": "code",
      "metadata": {},
      "source": [
        "(ggplot(data_used, aes(x='created_date', color = 'descriptor')) \n",
        "        #Add color coded descriptors.\n",
        "    + geom_density()\n",
        "    + theme(axis_text_x=element_text(angle=45)) \n",
        "        # Change the orientation of the words.\n",
        ")"
      ],
      "id": "dbb13fee",
      "execution_count": null,
      "outputs": []
    },
    {
      "cell_type": "code",
      "metadata": {},
      "source": [
        "(ggplot(data_used, aes(x='created_date', color = 'descriptor')) \n",
        "        #Add color coded descriptors.\n",
        "    + geom_density(aes(y=after_stat('count'))) \n",
        "        # Scale groups by relative size.\n",
        "    + theme(axis_text_x=element_text(angle=45)) \n",
        "        # Change the orientation of the words.\n",
        ")"
      ],
      "id": "e5cb6c99",
      "execution_count": null,
      "outputs": []
    },
    {
      "cell_type": "markdown",
      "metadata": {},
      "source": [
        "### Resources\n",
        "\n",
        "- <https://plotnine.readthedocs.io/en/v0.12.4/gallery.html>\n",
        "\n",
        "### References\n",
        "\n",
        "- “Plotnine.Geoms.Geom_bar¶.” Plotnine.Geoms.Geom_bar - Plotnine Commit: \n",
        "D1f7dbf Documentation, plotnine.readthedocs.io/en/stable/generated/\n",
        "plotnine.geoms.geom_bar.html. \n",
        "Accessed 13 Feb. 2024. \n",
        "\n",
        "- “Plotnine.Geoms.Geom_density¶.” Plotnine.Geoms.Geom_density - \n",
        "Plotnine Commit: D1f7dbf Documentation, plotnine.readthedocs.io/en/\n",
        "stable/generated/plotnine.geoms.geom_density.html. \n",
        "Accessed 17 Feb. 2024. \n",
        "\n",
        "- “Plotnine.Geoms.Geom_histogram¶.” Plotnine.Geoms.Geom_histogram - \n",
        "Plotnine Commit: D1f7dbf Documentation, plotnine.readthedocs.io/en/\n",
        "stable/generated/plotnine.geoms.geom_histogram.html#plotnine.\n",
        "geoms.geom_histogram. Accessed 17 Feb. 2024. \n",
        "\n",
        "- “Plotnine.Geoms.Geom_point¶.” Plotnine.Geoms.Geom_point - \n",
        "Plotnine Commit: D1f7dbf Documentation, plotnine.readthedocs.io/en/\n",
        "stable/generated/plotnine.geoms.geom_point.html. \n",
        "Accessed 16 Feb. 2024. \n",
        "\n",
        "- “Plotnine.” PyPI, pypi.org/project/plotnine/. Accessed 13 Feb. 2024. \n",
        "\n",
        "- Sarkar, Dipanjan (DJ). “A Comprehensive Guide to the Grammar of Graphics \n",
        "for Effective Visualization of Multi-Dimensional...” Medium, Towards Data \n",
        "Science, 13 Sept. 2018, towardsdatascience.com/a-comprehensive-guide-to-the-\n",
        "grammar-of-graphics-for-effective-visualization-of-multi-dimensional-1f92b4ed4149. \n",
        "\n",
        "## Handling Spatial Data with `GeoPandas`\n",
        "\n",
        "This section was written by Pratham Patel.\n",
        "\n",
        "### Introduction and Installation\n",
        "\n",
        "Hello! my name is Pratham Patel and I am a Senior due to graduate this \n",
        "semster with a Bachelor's Degree of Science in Mathematics/Statistics \n",
        "with a Computer Science minor. I hope to gain skills in using various \n",
        "different packages of Python in this course, as well as understand \n",
        "even more about the Data Science field. An example of learning new \n",
        "Python packages is the topic I will present today on the `geopandas` \n",
        "package. GeoPandas is an extension of the `pandas` package to support \n",
        "geographic data in its dataframes.\n",
        "\n",
        "The GeoPandas package can be installed via the terminal using any of the following commands.\n",
        "\n",
        "The documentation recommends:\n",
        "`conda install -c conda-forge geopandas`\n",
        "\n",
        "Standard conda install:\n",
        "`conda install geopandas`\n",
        "\n",
        "Using pip:\n",
        "`pip install geopandas`\n",
        "\n",
        "### Base Concepts\n",
        "\n",
        "GeoPandas relvolves around the `GeoDataFrame` object, which is essentially the \n",
        "pandas `DataFrame` object, with all the traditional capabilities in addition to \n",
        "the ability store and operate on geometry columns.\n",
        "\n",
        "The geometry types include points, lines and closed polygons (the first and last \n",
        "coordinates in the list must be the same).\n",
        "\n",
        "The objects made by `shapely.geometry` can represent these geometry types:"
      ],
      "id": "c022d246"
    },
    {
      "cell_type": "code",
      "metadata": {},
      "source": [
        "from shapely.geometry import Point, LineString, Polygon\n",
        "import geopandas as gpd\n",
        "\n",
        "point = Point(0, 1)\n",
        "gdf1 = gpd.GeoDataFrame(geometry=[point])\n",
        "\n",
        "line = LineString([(0, 0), (1, 1)])\n",
        "gdf2 = gpd.GeoDataFrame(geometry=[line])\n",
        "\n",
        "#note: the first and last element of \n",
        "#the list of tupled points are the same\n",
        "polygon = Polygon([(0, 0), (0, 2), (2, 2), (2, 0), (0, 0)])\n",
        "gdf3 = gpd.GeoDataFrame(geometry=[polygon])"
      ],
      "id": "405b6e82",
      "execution_count": null,
      "outputs": []
    },
    {
      "cell_type": "code",
      "metadata": {},
      "source": [
        "gdf1"
      ],
      "id": "b5f13be1",
      "execution_count": null,
      "outputs": []
    },
    {
      "cell_type": "markdown",
      "metadata": {},
      "source": [
        "Some of the basic attributes of a GeoSeries include:\n",
        "* `length`: returns length of a line"
      ],
      "id": "d13289e1"
    },
    {
      "cell_type": "code",
      "metadata": {},
      "source": [
        "gdf2.length"
      ],
      "id": "a30647a8",
      "execution_count": null,
      "outputs": []
    },
    {
      "cell_type": "markdown",
      "metadata": {},
      "source": [
        "* `area`: returns the area of the polygon"
      ],
      "id": "7724fa49"
    },
    {
      "cell_type": "code",
      "metadata": {},
      "source": [
        "gdf3.area"
      ],
      "id": "309f381b",
      "execution_count": null,
      "outputs": []
    },
    {
      "cell_type": "markdown",
      "metadata": {},
      "source": [
        "* `bounds`: gives the bounds of each row in a column of geometry\n",
        "\n",
        "* `total_bounds`: gives the bounds of a geometry series\n",
        "\n",
        "* `geom_type`: returns geometry type"
      ],
      "id": "d1c04dbb"
    },
    {
      "cell_type": "code",
      "metadata": {},
      "source": [
        "gdf1.geom_type"
      ],
      "id": "ef40d8e1",
      "execution_count": null,
      "outputs": []
    },
    {
      "cell_type": "markdown",
      "metadata": {},
      "source": [
        "* `is_valid`: return True for valid geometries and false otherwise (mostly important for polygons)."
      ],
      "id": "49787eb7"
    },
    {
      "cell_type": "code",
      "metadata": {},
      "source": [
        "gdf3.is_valid"
      ],
      "id": "70c7b923",
      "execution_count": null,
      "outputs": []
    },
    {
      "cell_type": "markdown",
      "metadata": {},
      "source": [
        "Next, we will cover various methods to be used on GeoSeries objects:\n",
        "\n",
        "* `distance()`: returns the Series with the minimum distance from each entry to another geometry or \n",
        "Series (argument `other`).\n",
        "    + Note: a secondary argument `align` is a boolean to align the GeoSeries by index if set to True"
      ],
      "id": "2bac400d"
    },
    {
      "cell_type": "code",
      "metadata": {},
      "source": [
        "gdf2.distance(Point((1,0)))\n",
        "gdf2.distance(LineString([(0, 2), (1, 2)]))"
      ],
      "id": "3c070cfe",
      "execution_count": null,
      "outputs": []
    },
    {
      "cell_type": "markdown",
      "metadata": {},
      "source": [
        "* `centroid`: returns a new GeoSeries with the center of each row's geometry."
      ],
      "id": "6d0f0815"
    },
    {
      "cell_type": "code",
      "metadata": {},
      "source": [
        "gdf3.centroid"
      ],
      "id": "573ed44f",
      "execution_count": null,
      "outputs": []
    },
    {
      "cell_type": "markdown",
      "metadata": {},
      "source": [
        "* `contains()`: returns True if the shape contains a specific geometry or Series.\n",
        "    + parameters `other` and `align`"
      ],
      "id": "748207c2"
    },
    {
      "cell_type": "code",
      "metadata": {},
      "source": [
        "gdf3.contains(Point((0.5, 1.5)))"
      ],
      "id": "9335aa9b",
      "execution_count": null,
      "outputs": []
    },
    {
      "cell_type": "code",
      "metadata": {},
      "source": [
        "gdf3.contains(gdf1)"
      ],
      "id": "fb1f1d49",
      "execution_count": null,
      "outputs": []
    },
    {
      "cell_type": "markdown",
      "metadata": {},
      "source": [
        "* `intersects()` returns true if shape intersects another geometry of series\n",
        "    + parameters `other` and `align`\n",
        "\n",
        "### Reading Files into `GeoDataFrame`'s\n",
        "\n",
        "The function `geopandas.read_file()` is the best way to read a file \n",
        "with both data and geometry into a `GeoDataFrame` object. From \n",
        "here, we will be using the nyc rodent data and visualize it. The \n",
        "code below converts every incident's location into a point \n",
        "on the geometry."
      ],
      "id": "45c49120"
    },
    {
      "cell_type": "code",
      "metadata": {},
      "source": [
        "# Reading csv file \n",
        "import pandas as pd \n",
        "import numpy as np\n",
        "# Shapely for converting latitude/longtitude to a point\n",
        "from shapely.geometry import Point \n",
        "# To create GeoDataFrame\n",
        "import geopandas as gpd \n",
        "\n",
        "#read in the feather file as a generic pandas DataFrame\n",
        "rat_22_23 = pd.read_feather('data/rodent_2022-2023.feather')\n",
        "\n",
        "# creating geometry using shapely (removing missing points) for the already built in longitude and latitude coordinates\n",
        "geometry = [Point(xy) for xy in zip(rat_22_23[\"longitude\"], rat_22_23[\"latitude\"]) if not Point(xy).is_empty]\n",
        "\n",
        "# creating geometry column to be used by geopandas using the points_from_xy method\n",
        "geo = gpd.points_from_xy(rat_22_23[\"longitude\"], rat_22_23[\"latitude\"])\n",
        "\n",
        "# coordinate reference system (epsg:4326 implies geographic coordinates)\n",
        "crs = {'init': 'epsg:4326'}\n",
        "\n",
        "# create GeoDataFrame (takes care of the missing coordinates) \n",
        "rodent_gdf = gpd.GeoDataFrame(rat_22_23.loc[~pd.isna(rat_22_23[\"longitude\"]) & ~pd.isna(rat_22_23[\"latitude\"])], crs=crs, geometry=geometry)"
      ],
      "id": "e34c4112",
      "execution_count": null,
      "outputs": []
    },
    {
      "cell_type": "markdown",
      "metadata": {},
      "source": [
        "Here, we can take a view at the new GeoDataFrame:"
      ],
      "id": "70d3a059"
    },
    {
      "cell_type": "code",
      "metadata": {},
      "source": [
        "rodent_gdf.head()"
      ],
      "id": "94187de5",
      "execution_count": null,
      "outputs": []
    },
    {
      "cell_type": "markdown",
      "metadata": {},
      "source": [
        "### Plotting\n",
        "The new geometry allows us to plot the data easily."
      ],
      "id": "f526f2c2"
    },
    {
      "cell_type": "code",
      "metadata": {},
      "source": [
        "#standard plot of every single rodent incident\n",
        "rodent_gdf.plot()\n",
        "\n",
        "#color the plot by borough\n",
        "rodent_gdf.plot(column = 'borough', legend=True)\n",
        "\n",
        "#color the plot by borough, with more transparent markers\n",
        "rodent_gdf.plot(column = 'borough', alpha = 0.01)\n",
        "\n",
        "#color by the descriptor of the incident\n",
        "rodent_gdf.plot(column = 'descriptor', legend=True)\n",
        "\n",
        "#Plot the missing information for borough\n",
        "rodent_gdf.plot(column='borough', missing_kwds={'color':'red'})\n",
        "\n",
        "#color the plot by zipcode\n",
        "rodent_gdf.plot(column = 'incident_zip', legend=True)"
      ],
      "id": "72ddd475",
      "execution_count": null,
      "outputs": []
    },
    {
      "cell_type": "markdown",
      "metadata": {},
      "source": [
        "Note that if an integer column is passed, the legend will present the key as a gradient by default.\n",
        "\n",
        "\n",
        "You can individualize each zipcode using categorical=True, though be sure the list \n",
        "of unique integers is not too large.\n",
        "\n",
        "`rodent_gdf.plot(column = 'incident_zip', legend=True, categorical=True)`\n",
        "\n",
        "The geographic visualizations allow us to try to observe some trends amongst the reported rodent incident we see.\n",
        "\n",
        "### Interactive Maps\n",
        "A very interesting aspect is the ability to create interactive graphs using the `.explore()` method.\n",
        "\n",
        "Note that `folium`, `matplotlib`, and `mapclassify` are necessary for the `.explore()` function."
      ],
      "id": "08d7903b"
    },
    {
      "cell_type": "code",
      "metadata": {},
      "source": [
        "#interactive map with incidents colored by borough\n",
        "rodent_gdf.explore(column='borough', legend=True)"
      ],
      "id": "de719cab",
      "execution_count": null,
      "outputs": []
    },
    {
      "cell_type": "markdown",
      "metadata": {},
      "source": [
        "This map lets us specifically find various points and examine them and their surroudings.\n",
        "\n",
        "\n",
        "### Setting and Changing Projections\n",
        "In the code, a Coordinate Reference System(CRS) was set using `crs = {'init':'epsg:4326'}`. \n",
        "CRS can be set on on initialized GeoDataFrame using the `.set_crs` function. We can do this \n",
        "for our previous example `gdf3`:"
      ],
      "id": "9863197c"
    },
    {
      "cell_type": "code",
      "metadata": {},
      "source": [
        "gdf3 = gdf3.set_crs(\"EPSG:4326\")\n",
        "gdf3.plot()"
      ],
      "id": "b0a90151",
      "execution_count": null,
      "outputs": []
    },
    {
      "cell_type": "markdown",
      "metadata": {},
      "source": [
        "There are other CRS's that can be set by the `.to_crs()` function. \n",
        "Examples include:\n",
        "* ESPG:2263 - coordinates labeled in feet\n",
        "* ESPG:3395 - World Mercator System\n",
        "\n",
        "\n",
        "### References\n",
        "\n",
        "* GeoPandas Documentation: \n",
        "    + https://geopandas.org/en/stable/index.html\n",
        "\n",
        "* NYC 311 Service Request\n",
        "    + https://data.cityofnewyork.us/Social-Services/311-Service-Requests-from-2010-to-Present/erm2-nwe9/about_data\n"
      ],
      "id": "1324dd5d"
    }
  ],
  "metadata": {
    "kernelspec": {
      "name": "python3",
      "language": "python",
      "display_name": "Python 3 (ipykernel)"
    }
  },
  "nbformat": 4,
  "nbformat_minor": 5
}